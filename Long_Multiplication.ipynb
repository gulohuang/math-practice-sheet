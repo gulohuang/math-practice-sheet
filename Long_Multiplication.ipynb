{
 "cells": [
  {
   "cell_type": "code",
   "execution_count": 1,
   "id": "87cec0e0",
   "metadata": {},
   "outputs": [
    {
     "data": {
      "text/plain": [
       "'Long_Multiplication_Practice_Sheet.docx'"
      ]
     },
     "execution_count": 1,
     "metadata": {},
     "output_type": "execute_result"
    }
   ],
   "source": [
    "# modified based on the skectch written by ChatGPT\n",
    "from docx import Document\n",
    "from docx.shared import Pt, Inches\n",
    "from docx.enum.text import WD_ALIGN_PARAGRAPH\n",
    "from docx.enum.text import WD_PARAGRAPH_ALIGNMENT\n",
    "import random\n",
    "\n",
    "# Re-adjusting the document setup to ensure everything fits on one page with the specified requirements\n",
    "doc = Document()\n",
    "\n",
    "# Set the margins to half inch on all sides\n",
    "section = doc.sections[0]\n",
    "section.top_margin = Inches(0.5)\n",
    "section.bottom_margin = Inches(0.5)\n",
    "section.left_margin = Inches(0.5)\n",
    "section.right_margin = Inches(0.5)\n",
    "\n",
    "# Set the global font settings\n",
    "style = doc.styles['Normal']\n",
    "style.font.name = 'Segoe UI'\n",
    "style.font.size = Pt(16)  # Adjusting font size to ensure fit on one page\n",
    "style.font.bold = True\n",
    "style.paragraph_format.line_spacing = 0.8\n",
    "style.paragraph_format.alignment = WD_PARAGRAPH_ALIGNMENT.RIGHT\n",
    "\n",
    "# Create a 4x5 table for the problems\n",
    "table = doc.add_table(rows=5, cols=4)\n",
    "table.autofit = False\n",
    "\n",
    "for row in table.rows:\n",
    "    for cell in row.cells:\n",
    "        # Ensure each cell expands horizontally as much as possible\n",
    "        cell.width = Inches(1.75)  # Adjusted to utilize the full page width\n",
    "\n",
    "        # Generate and insert a multiplication problem into each cell\n",
    "        Multiplicand = random.randint(10, 99)\n",
    "        Multiplier = random.randint(2, 9)\n",
    "        \n",
    "        # Calculate alignment\n",
    "        max_length = max(len(str(Multiplicand))*2-1, len(str(Multiplier))*2 - 1)\n",
    "\n",
    "        # First line  # Add a space in the middle of the Multiplicand\n",
    "        first_line = ' '.join(str(Multiplicand))\n",
    "        \n",
    "        # Second line  # Add a space in the middle of the Multiplier\n",
    "        second_line = f\"×{' ' * (max_length+2)}{' '.join(str(Multiplier))}\"\n",
    "        \n",
    "        # Thrid line\n",
    "        third_line = f\"{'─' * max_length}\"\n",
    "        \n",
    "        # Construct the problem with aligned numbers, excluding the answer\n",
    "        cell.text = f\"{first_line}\\n{second_line}\\n{third_line}\"\n",
    "\n",
    "        # Apply the cell text formatting\n",
    "        paragraphs = cell.paragraphs\n",
    "        for paragraph in paragraphs:\n",
    "            paragraph.alignment = WD_PARAGRAPH_ALIGNMENT.RIGHT\n",
    "            for run in paragraph.runs:\n",
    "                run.font.name = 'Segoe UI'\n",
    "                run.font.size = Pt(21)  # Adjusted for fit and readability\n",
    "                run.font.bold = True\n",
    "\n",
    "# Add spacing between problems\n",
    "for row in table.rows:\n",
    "    for cell in row.cells:\n",
    "        cell.add_paragraph(\"\\n\\n\")  # Two empty lines for spacing\n",
    "\n",
    "# Save the document with the table of problems, ensuring it all fits on one page\n",
    "file_path_optimized = 'Long_Multiplication_Practice_Sheet.docx'\n",
    "doc.save(file_path_optimized)\n",
    "\n",
    "file_path_optimized\n"
   ]
  },
  {
   "cell_type": "code",
   "execution_count": null,
   "id": "3d77a7a9",
   "metadata": {},
   "outputs": [],
   "source": [
    "# I've also tried some prompt engineering with ChatGPT\n",
    "# But not working very well due to ChatGPT unstability and laziness\n",
    "\n",
    "# Can you create a long multiplication practice sheet? \n",
    "# Please create it directly in a .docx file and output the .docx file. \n",
    "# There should be 20 problems in total in a 4 by 5 table.\n",
    "# The multiplicand should be a 2-digit number. \n",
    "# The multiplier should be a 1-digit number larger than 2.\n",
    "# Please add a space in each digit of multiplicand and multiplier. \n",
    "# Please make the problem in long multiplication format, with a straight horizontal line.\n",
    "# Please add space between the multiplication sign and 1 digit number that equal to the length of multiplicand.\n",
    "# Please have two empty lines for answer area. \n",
    "# The sheet should only include question without answer.\n",
    "# please make sure the numbers of different lines are aligned. \n",
    "# Please have two empty lines after each problem. \n",
    "# Please use font 'Segoe UI'. \n",
    "# Please bold every text.\n",
    "# Please align text to the right. \n",
    "# Please make page with half inch margin.\n",
    "# Please adjust the font size that the table can expand the one entire page.\n",
    "# Please adjust  line spacing so everything can fit into just one page."
   ]
  }
 ],
 "metadata": {
  "kernelspec": {
   "display_name": "Python 3 (ipykernel)",
   "language": "python",
   "name": "python3"
  },
  "language_info": {
   "codemirror_mode": {
    "name": "ipython",
    "version": 3
   },
   "file_extension": ".py",
   "mimetype": "text/x-python",
   "name": "python",
   "nbconvert_exporter": "python",
   "pygments_lexer": "ipython3",
   "version": "3.11.3"
  }
 },
 "nbformat": 4,
 "nbformat_minor": 5
}
